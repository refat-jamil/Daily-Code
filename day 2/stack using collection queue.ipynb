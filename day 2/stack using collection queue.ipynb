{
 "cells": [
  {
   "cell_type": "markdown",
   "id": "000e0731",
   "metadata": {},
   "source": [
    "# Implementation using Queue\n",
    "- Queue module contains the LIFO queue\n",
    "- Is is having some additional fucntions and works same as stack\n",
    "- get function is used to remove the element"
   ]
  },
  {
   "cell_type": "code",
   "execution_count": 9,
   "id": "ce8369a2",
   "metadata": {},
   "outputs": [
    {
     "data": {
      "text/plain": [
       "<queue.LifoQueue at 0x7d0c700e7d90>"
      ]
     },
     "execution_count": 9,
     "metadata": {},
     "output_type": "execute_result"
    }
   ],
   "source": [
    "from queue import LifoQueue\n",
    "stack = LifoQueue(maxsize=5)\n",
    "\n",
    "stack.put(1)\n",
    "stack.put(2)\n",
    "stack.put(3)\n",
    "stack.put(4)\n",
    "stack.put(5)\n",
    "\n",
    "stack"
   ]
  },
  {
   "cell_type": "code",
   "execution_count": 10,
   "id": "f59e6e53",
   "metadata": {},
   "outputs": [
    {
     "name": "stdout",
     "output_type": "stream",
     "text": [
      "5\n",
      "True\n"
     ]
    }
   ],
   "source": [
    "print(stack.qsize())\n",
    "print(stack.full())"
   ]
  },
  {
   "cell_type": "code",
   "execution_count": 11,
   "id": "fb2537c2",
   "metadata": {},
   "outputs": [
    {
     "name": "stdout",
     "output_type": "stream",
     "text": [
      "5\n"
     ]
    }
   ],
   "source": [
    "print(stack.get())"
   ]
  },
  {
   "cell_type": "code",
   "execution_count": 12,
   "id": "bdf36306",
   "metadata": {},
   "outputs": [
    {
     "name": "stdout",
     "output_type": "stream",
     "text": [
      "4\n"
     ]
    }
   ],
   "source": [
    "print(stack.get())"
   ]
  },
  {
   "cell_type": "code",
   "execution_count": 13,
   "id": "09cdf7b3",
   "metadata": {},
   "outputs": [
    {
     "name": "stdout",
     "output_type": "stream",
     "text": [
      "False\n"
     ]
    }
   ],
   "source": [
    "print(stack.full())"
   ]
  },
  {
   "cell_type": "code",
   "execution_count": 14,
   "id": "25732bc1",
   "metadata": {},
   "outputs": [
    {
     "name": "stdout",
     "output_type": "stream",
     "text": [
      "False\n"
     ]
    }
   ],
   "source": [
    "print(stack.empty())"
   ]
  },
  {
   "cell_type": "code",
   "execution_count": null,
   "id": "0313303d",
   "metadata": {},
   "outputs": [],
   "source": []
  }
 ],
 "metadata": {
  "kernelspec": {
   "display_name": "base",
   "language": "python",
   "name": "python3"
  },
  "language_info": {
   "codemirror_mode": {
    "name": "ipython",
    "version": 3
   },
   "file_extension": ".py",
   "mimetype": "text/x-python",
   "name": "python",
   "nbconvert_exporter": "python",
   "pygments_lexer": "ipython3",
   "version": "3.13.5"
  }
 },
 "nbformat": 4,
 "nbformat_minor": 5
}

{
  "cells": [
    {
      "cell_type": "code",
      "execution_count": 7,
      "metadata": {
        "colab": {
          "base_uri": "https://localhost:8080/"
        },
        "id": "KpNJfL0V-Oeq",
        "outputId": "d8577784-a61f-46f5-a88b-1eaadc6161e2"
      },
      "outputs": [
        {
          "name": "stdout",
          "output_type": "stream",
          "text": [
            "Hello, World\n"
          ]
        }
      ],
      "source": [
        "print(\"Hello, World\")"
      ]
    },
    {
      "cell_type": "code",
      "execution_count": 8,
      "metadata": {
        "id": "Pceie9ye_B7b"
      },
      "outputs": [],
      "source": [
        "# Create a Node\n",
        "class Node:\n",
        "  def __init__(self, data):\n",
        "    self.data = data\n",
        "    self.next = None\n",
        "\n",
        "# Create a Singly LinkedList\n",
        "class SinglyLinkedList:\n",
        "  def __init__(self):\n",
        "    self.head = None\n",
        "\n",
        "  def traversal(self):\n",
        "    if self.head is None:\n",
        "      print(\"Singly LinkedList is empty\")\n",
        "    else:\n",
        "       a = self.head\n",
        "       while a is not None:\n",
        "        print(a.data, end=\" \")\n",
        "        a = a.next\n",
        "\n",
        "  def insertion_at_beginning(self, data):\n",
        "    new_node = Node(data)\n",
        "    new_node.next = self.head\n",
        "    self.head = new_node\n",
        "\n",
        "  def insertion_at_end(self, data):\n",
        "    new_node = Node(data)\n",
        "    a =  self.head\n",
        "    while a.next is not None:\n",
        "      a = a.next\n",
        "    a.next = new_node\n",
        "\n",
        "  def insertion_at_position(self, position, data):\n",
        "    new_node = Node(data)\n",
        "    a = self.head\n",
        "    for i in range(1, position-1):\n",
        "      a = a.next\n",
        "    new_node.next = a.next\n",
        "    a.next = new_node\n",
        "\n",
        "\n",
        "\n",
        "\n",
        "\n"
      ]
    },
    {
      "cell_type": "code",
      "execution_count": 9,
      "metadata": {
        "colab": {
          "base_uri": "https://localhost:8080/"
        },
        "id": "G0kylGh9D-6L",
        "outputId": "0a9d2f3d-c8f2-422d-94a4-461188427bd7"
      },
      "outputs": [
        {
          "name": "stdout",
          "output_type": "stream",
          "text": [
            "5 22 33 12 "
          ]
        }
      ],
      "source": [
        "# Create a Singly LinkedList Object\n",
        "sll = SinglyLinkedList()\n",
        "\n",
        "# Create some Nodes\n",
        "n1 = Node(5)\n",
        "n2 = Node(12)\n",
        "n3 = Node(22)\n",
        "n4 = Node(33)\n",
        "\n",
        "#  Declare Frist Node n1 is head\n",
        "sll.head = n1\n",
        "\n",
        "# Then connect every node with each others\n",
        "\n",
        "n1.next = n3\n",
        "n3.next = n4\n",
        "n4.next = n2\n",
        "\n",
        "# Now Traversal\n",
        "sll.traversal()\n"
      ]
    },
    {
      "cell_type": "code",
      "execution_count": 10,
      "metadata": {},
      "outputs": [],
      "source": [
        "# intsert new data at beginning\n",
        "sll.insertion_at_beginning(100)"
      ]
    },
    {
      "cell_type": "code",
      "execution_count": 11,
      "metadata": {},
      "outputs": [
        {
          "name": "stdout",
          "output_type": "stream",
          "text": [
            "100 5 22 33 12 "
          ]
        }
      ],
      "source": [
        "sll.traversal()"
      ]
    },
    {
      "cell_type": "code",
      "execution_count": 12,
      "metadata": {},
      "outputs": [],
      "source": [
        "sll.insertion_at_end(200)"
      ]
    },
    {
      "cell_type": "code",
      "execution_count": 13,
      "metadata": {},
      "outputs": [
        {
          "name": "stdout",
          "output_type": "stream",
          "text": [
            "100 5 22 33 12 200 "
          ]
        }
      ],
      "source": [
        "sll.traversal()"
      ]
    },
    {
      "cell_type": "code",
      "execution_count": 14,
      "metadata": {},
      "outputs": [],
      "source": [
        "sll.insertion_at_position(3,333)"
      ]
    },
    {
      "cell_type": "code",
      "execution_count": 15,
      "metadata": {},
      "outputs": [
        {
          "name": "stdout",
          "output_type": "stream",
          "text": [
            "100 5 333 22 33 12 200 "
          ]
        }
      ],
      "source": [
        "sll.traversal()"
      ]
    },
    {
      "cell_type": "code",
      "execution_count": null,
      "metadata": {},
      "outputs": [],
      "source": []
    }
  ],
  "metadata": {
    "colab": {
      "provenance": [],
      "toc_visible": true
    },
    "kernelspec": {
      "display_name": "base",
      "language": "python",
      "name": "python3"
    },
    "language_info": {
      "codemirror_mode": {
        "name": "ipython",
        "version": 3
      },
      "file_extension": ".py",
      "mimetype": "text/x-python",
      "name": "python",
      "nbconvert_exporter": "python",
      "pygments_lexer": "ipython3",
      "version": "3.13.5"
    }
  },
  "nbformat": 4,
  "nbformat_minor": 0
}

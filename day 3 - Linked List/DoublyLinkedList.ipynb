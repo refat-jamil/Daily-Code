{
  "nbformat": 4,
  "nbformat_minor": 0,
  "metadata": {
    "colab": {
      "provenance": []
    },
    "kernelspec": {
      "name": "python3",
      "display_name": "Python 3"
    },
    "language_info": {
      "name": "python"
    }
  },
  "cells": [
    {
      "cell_type": "code",
      "execution_count": 13,
      "metadata": {
        "id": "RXr8RB8-HpUK"
      },
      "outputs": [],
      "source": [
        "class Node:\n",
        "  def __init__(self, data):\n",
        "    self.data = data\n",
        "    self.next = None\n",
        "    self.previous = None\n",
        "\n",
        "class DoublyLinkedList:\n",
        "  def __inti__(self):\n",
        "    self.head = None\n",
        "\n",
        "  def forward_traversel(self):\n",
        "    if self.head is None:\n",
        "      print(\"List Empty\")\n",
        "    else:\n",
        "      a = self.head\n",
        "      while a is not None:\n",
        "        print(a.data)\n",
        "        a = a.next\n",
        "\n",
        "  def backward_traversel(self):\n",
        "    if self.head is None:\n",
        "      print(\"List is Empty\")\n",
        "    else:\n",
        "      a = self.head\n",
        "      while a.next is not None:\n",
        "        a = a.next\n",
        "      while a is not None:\n",
        "        print(a.data)\n",
        "        a = a.previous\n",
        "\n",
        "  def insertion_at_beginning(self, data):\n",
        "    new_node = Node(data)\n",
        "    a = self.head\n",
        "    a.previous = new_node\n",
        "    new_node.next = a\n",
        "    self.head = new_node\n",
        "\n",
        "  def insertion_at_end(self, data):\n",
        "    new_node = Node(data)\n",
        "    a = self.head\n",
        "    while a.next is not None:\n",
        "      a = a.next\n",
        "    a.next = new_node\n",
        "    new_node.previous = a\n",
        "\n",
        "  def insertion_at_position(self, data, position):\n",
        "    new_node = Node(data)\n",
        "    a = self.head\n",
        "    for i in range(1, (position-1)):\n",
        "      a = a.next\n",
        "    new_node.next = a.next\n",
        "    new_node.previous = a\n",
        "    a.next = new_node\n",
        "    a.next.previous = new_node\n"
      ]
    },
    {
      "cell_type": "code",
      "source": [
        "node1 = Node(10)\n",
        "node2 = Node(20)\n",
        "node3 = Node(30)\n",
        "\n",
        "ddl = DoublyLinkedList()\n",
        "\n",
        "ddl.head = node1\n",
        "\n",
        "node1.next = node2\n",
        "node2.previous = node1\n",
        "\n",
        "node2.next = node3\n",
        "node3.previous = node2\n",
        "\n",
        "\n",
        "\n",
        "ddl.forward_traversel()"
      ],
      "metadata": {
        "id": "oYU-7d10LQBN",
        "colab": {
          "base_uri": "https://localhost:8080/"
        },
        "outputId": "12b28ded-a4f1-477c-a1f9-022cda940b1c"
      },
      "execution_count": 14,
      "outputs": [
        {
          "output_type": "stream",
          "name": "stdout",
          "text": [
            "10\n",
            "20\n",
            "30\n"
          ]
        }
      ]
    },
    {
      "cell_type": "code",
      "source": [
        "ddl.backward_traversel()"
      ],
      "metadata": {
        "id": "Mpwj7aZXYsPM",
        "colab": {
          "base_uri": "https://localhost:8080/"
        },
        "outputId": "e5f8c575-4993-42a7-9904-22166ab7e972"
      },
      "execution_count": 15,
      "outputs": [
        {
          "output_type": "stream",
          "name": "stdout",
          "text": [
            "30\n",
            "20\n",
            "10\n"
          ]
        }
      ]
    },
    {
      "cell_type": "code",
      "source": [
        "ddl.insertion_at_beginning(40)\n",
        "ddl.forward_traversel()"
      ],
      "metadata": {
        "colab": {
          "base_uri": "https://localhost:8080/"
        },
        "id": "tI0IcNVh_AUh",
        "outputId": "f5f76d2f-8222-45c4-e96a-790e11a1f667"
      },
      "execution_count": 16,
      "outputs": [
        {
          "output_type": "stream",
          "name": "stdout",
          "text": [
            "40\n",
            "10\n",
            "20\n",
            "30\n"
          ]
        }
      ]
    },
    {
      "cell_type": "code",
      "source": [
        "ddl.insertion_at_end(50)\n",
        "ddl.forward_traversel()"
      ],
      "metadata": {
        "id": "6DU05Jzbnpr2",
        "colab": {
          "base_uri": "https://localhost:8080/"
        },
        "outputId": "52159df1-8ffe-4329-c3cf-00cbe3dc5cf4"
      },
      "execution_count": 17,
      "outputs": [
        {
          "output_type": "stream",
          "name": "stdout",
          "text": [
            "40\n",
            "10\n",
            "20\n",
            "30\n",
            "50\n"
          ]
        }
      ]
    },
    {
      "cell_type": "code",
      "source": [
        "ddl.insertion_at_position(60, 4)\n",
        "ddl.forward_traversel()"
      ],
      "metadata": {
        "colab": {
          "base_uri": "https://localhost:8080/"
        },
        "id": "S5hVXAQztDPC",
        "outputId": "2aae0024-df0b-415e-97d3-c93b72febe06"
      },
      "execution_count": 18,
      "outputs": [
        {
          "output_type": "stream",
          "name": "stdout",
          "text": [
            "40\n",
            "10\n",
            "20\n",
            "60\n",
            "30\n",
            "50\n"
          ]
        }
      ]
    },
    {
      "cell_type": "code",
      "source": [],
      "metadata": {
        "id": "bQoEKoc2veBC"
      },
      "execution_count": null,
      "outputs": []
    }
  ]
}

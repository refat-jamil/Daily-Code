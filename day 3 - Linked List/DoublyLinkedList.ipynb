{
  "nbformat": 4,
  "nbformat_minor": 0,
  "metadata": {
    "colab": {
      "provenance": []
    },
    "kernelspec": {
      "name": "python3",
      "display_name": "Python 3"
    },
    "language_info": {
      "name": "python"
    }
  },
  "cells": [
    {
      "cell_type": "code",
      "execution_count": 46,
      "metadata": {
        "id": "RXr8RB8-HpUK"
      },
      "outputs": [],
      "source": [
        "class Node:\n",
        "  def __init__(self, data):\n",
        "    self.data = data\n",
        "    self.next = None\n",
        "    self.previous = None\n",
        "\n",
        "class DoublyLinkedList:\n",
        "  def __inti__(self):\n",
        "    self.head = None\n",
        "\n",
        "  def forward_traversel(self):\n",
        "    if self.head is None:\n",
        "      print(\"List Empty\")\n",
        "    else:\n",
        "      a = self.head\n",
        "      while a is not None:\n",
        "        print(a.data)\n",
        "        a = a.next\n",
        "\n",
        "  def backward_traversel(self):\n",
        "    if self.head is None:\n",
        "      print(\"List is Empty\")\n",
        "    else:\n",
        "      a = self.head\n",
        "      while a.next is not None:\n",
        "        a = a.next\n",
        "      while a is not None:\n",
        "        print(a.data)\n",
        "        a = a.previous\n",
        "\n",
        "\n",
        "\n",
        "\n",
        "\n",
        "\n",
        ""
      ]
    },
    {
      "cell_type": "code",
      "source": [
        "node1 = Node(10)\n",
        "node2 = Node(20)\n",
        "node3 = Node(30)\n",
        "\n",
        "ddl = DoublyLinkedList()\n",
        "\n",
        "ddl.head = node1\n",
        "\n",
        "node1.next = node2\n",
        "node2.previous = node1\n",
        "\n",
        "node2.next = node3\n",
        "node3.previous = node2\n",
        "\n",
        "\n",
        "\n",
        "ddl.forward_traversel()"
      ],
      "metadata": {
        "id": "oYU-7d10LQBN",
        "colab": {
          "base_uri": "https://localhost:8080/"
        },
        "outputId": "9d4b25bb-641d-4dc7-8aaf-a3afd5f72374"
      },
      "execution_count": 47,
      "outputs": [
        {
          "output_type": "stream",
          "name": "stdout",
          "text": [
            "10\n",
            "20\n",
            "30\n"
          ]
        }
      ]
    },
    {
      "cell_type": "code",
      "source": [
        "ddl.backward_traversel()"
      ],
      "metadata": {
        "id": "Mpwj7aZXYsPM",
        "colab": {
          "base_uri": "https://localhost:8080/"
        },
        "outputId": "dd56f2ec-d764-4a4e-c796-571867e6205f"
      },
      "execution_count": 48,
      "outputs": [
        {
          "output_type": "stream",
          "name": "stdout",
          "text": [
            "30\n",
            "20\n",
            "10\n"
          ]
        }
      ]
    },
    {
      "cell_type": "code",
      "source": [],
      "metadata": {
        "id": "tI0IcNVh_AUh"
      },
      "execution_count": 27,
      "outputs": []
    }
  ]
}